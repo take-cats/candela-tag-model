{
 "cells": [
  {
   "cell_type": "code",
   "execution_count": 3,
   "metadata": {
    "collapsed": true
   },
   "outputs": [],
   "source": []
  },
  {
   "cell_type": "code",
   "execution_count": 6,
   "outputs": [],
   "source": [
    "import os\n",
    "from PIL import Image\n",
    "\n",
    "# 데이터 경로 설정\n",
    "train_data_dir = 'training_data/'\n",
    "test_data_dir = 'testing_data'\n",
    "\n",
    "\n",
    "def image_resize():\n",
    "    file_list = os.listdir(train_data_dir)\n",
    "    file_count = len(file_list)\n",
    "\n",
    "    for i in range(0, file_count):\n",
    "        img = Image.open(f'training_data/{i}.png')\n",
    "        img = img.resize((400, 400))\n",
    "        img.show()\n",
    "\n",
    "image_resize()\n"
   ],
   "metadata": {
    "collapsed": false
   }
  },
  {
   "cell_type": "code",
   "execution_count": null,
   "outputs": [],
   "source": [],
   "metadata": {
    "collapsed": false
   }
  }
 ],
 "metadata": {
  "kernelspec": {
   "display_name": "Python 3",
   "language": "python",
   "name": "python3"
  },
  "language_info": {
   "codemirror_mode": {
    "name": "ipython",
    "version": 2
   },
   "file_extension": ".py",
   "mimetype": "text/x-python",
   "name": "python",
   "nbconvert_exporter": "python",
   "pygments_lexer": "ipython2",
   "version": "2.7.6"
  }
 },
 "nbformat": 4,
 "nbformat_minor": 0
}
